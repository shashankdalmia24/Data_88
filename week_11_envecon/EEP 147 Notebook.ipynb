{
 "cells": [
  {
   "cell_type": "markdown",
   "metadata": {},
   "source": [
    "<table style=\"width: 100%;\">\n",
    "    <tr style=\"background-color: transparent;\"><td>\n",
    "        <img src=\"https://d8a-88.github.io/econ-fa19/assets/images/blue_text.png\" width=\"250px\" style=\"margin-left: 0;\" />\n",
    "    </td><td>\n",
    "        <p style=\"text-align: right; font-size: 12pt;\"><strong>Economic Models</strong>, Fall 2019<br>\n",
    "            Dr. Eric Van Dusen</p></td></tr>\n",
    "</table>"
   ]
  },
  {
   "cell_type": "markdown",
   "metadata": {},
   "source": [
    "# Lab 11: Environmental Economics"
   ]
  },
  {
   "cell_type": "markdown",
   "metadata": {},
   "source": [
    "In this lab, we will be exploring a dataset from an electricity strategy game that looks at porfolio of different power plants, companies, and their outputs. We will integrating data science into environmental economics. "
   ]
  },
  {
   "cell_type": "code",
   "execution_count": 1,
   "metadata": {},
   "outputs": [],
   "source": [
    "from datascience import *\n",
    "import pandas as pd\n",
    "import numpy as np\n",
    "from ipywidgets import interact, Dropdown, IntSlider\n",
    "import ipywidgets as widgets\n",
    "import matplotlib.pyplot as plt\n",
    "import matplotlib.patches as mpatches\n",
    "from utils import *\n",
    "%matplotlib inline\n",
    "plt.rcParams[\"figure.figsize\"] = [10,6]"
   ]
  },
  {
   "cell_type": "markdown",
   "metadata": {},
   "source": [
    "In the cell below, we load in the ESG table and sort it by the total variable cost column, `Total_Var_Cost_USDperMWH`. The result is stored as `ESG_sorted`."
   ]
  },
  {
   "cell_type": "code",
   "execution_count": 2,
   "metadata": {
    "scrolled": false
   },
   "outputs": [
    {
     "data": {
      "text/html": [
       "<table border=\"1\" class=\"dataframe\">\n",
       "    <thead>\n",
       "        <tr>\n",
       "            <th>Group</th> <th>Group_num</th> <th>UNIT NAME</th> <th>Capacity_MW</th> <th>Heat_Rate_MMBTUperMWh</th> <th>Fuel_Price_USDperMMBTU</th> <th>Fuel_Cost_USDperMWH</th> <th>Var_OandM_USDperMWH</th> <th>Total_Var_Cost_USDperMWH</th> <th>Carbon_tonsperMWH</th> <th>FixedCst_OandM_perDay</th> <th>Plant_ID</th>\n",
       "        </tr>\n",
       "    </thead>\n",
       "    <tbody>\n",
       "        <tr>\n",
       "            <td>Old Timers  </td> <td>7        </td> <td>BIG CREEK      </td> <td>1000       </td> <td>nan                  </td> <td>0                     </td> <td>0                  </td> <td>0                  </td> <td>0                       </td> <td>0                </td> <td>$15,000              </td> <td>61      </td>\n",
       "        </tr>\n",
       "        <tr>\n",
       "            <td>Fossil Light</td> <td>8        </td> <td>HELMS          </td> <td>800        </td> <td>nan                  </td> <td>0                     </td> <td>0                  </td> <td>0.5                </td> <td>0.5                     </td> <td>0                </td> <td>$15,000              </td> <td>72      </td>\n",
       "        </tr>\n",
       "        <tr>\n",
       "            <td>Fossil Light</td> <td>8        </td> <td>DIABLO CANYON 1</td> <td>1000       </td> <td>1                    </td> <td>7.5                   </td> <td>7.5                </td> <td>4                  </td> <td>11.5                    </td> <td>0                </td> <td>$20,000              </td> <td>75      </td>\n",
       "        </tr>\n",
       "        <tr>\n",
       "            <td>Bay Views   </td> <td>4        </td> <td>MOSS LANDING 6 </td> <td>750        </td> <td>6.9                  </td> <td>4.5                   </td> <td>31.06              </td> <td>1.5                </td> <td>32.56                   </td> <td>0.37             </td> <td>$8,000               </td> <td>33      </td>\n",
       "        </tr>\n",
       "        <tr>\n",
       "            <td>Bay Views   </td> <td>4        </td> <td>MOSS LANDING 7 </td> <td>750        </td> <td>6.9                  </td> <td>4.5                   </td> <td>31.06              </td> <td>1.5                </td> <td>32.56                   </td> <td>0.37             </td> <td>$8,000               </td> <td>34      </td>\n",
       "        </tr>\n",
       "        <tr>\n",
       "            <td>Old Timers  </td> <td>7        </td> <td>MOHAVE 1       </td> <td>750        </td> <td>10                   </td> <td>3                     </td> <td>30                 </td> <td>4.5                </td> <td>34.5                    </td> <td>0.94             </td> <td>$15,000              </td> <td>62      </td>\n",
       "        </tr>\n",
       "        <tr>\n",
       "            <td>Old Timers  </td> <td>7        </td> <td>MOHAVE 2       </td> <td>750        </td> <td>10                   </td> <td>3                     </td> <td>30                 </td> <td>4.5                </td> <td>34.5                    </td> <td>0.94             </td> <td>$15,000              </td> <td>63      </td>\n",
       "        </tr>\n",
       "        <tr>\n",
       "            <td>Big Coal    </td> <td>1        </td> <td>FOUR CORNERS   </td> <td>1900       </td> <td>11.67                </td> <td>3                     </td> <td>35                 </td> <td>1.5                </td> <td>36.5                    </td> <td>1.1              </td> <td>$8,000               </td> <td>11      </td>\n",
       "        </tr>\n",
       "        <tr>\n",
       "            <td>Bay Views   </td> <td>4        </td> <td>MORRO BAY 3&4  </td> <td>665        </td> <td>8.02                 </td> <td>4.5                   </td> <td>36.11              </td> <td>0.5                </td> <td>36.61                   </td> <td>0.43             </td> <td>$4,000               </td> <td>32      </td>\n",
       "        </tr>\n",
       "        <tr>\n",
       "            <td>East Bay    </td> <td>6        </td> <td>PITTSBURGH 5&6 </td> <td>650        </td> <td>8.02                 </td> <td>4.5                   </td> <td>36.11              </td> <td>0.5                </td> <td>36.61                   </td> <td>0.43             </td> <td>$2,500               </td> <td>52      </td>\n",
       "        </tr>\n",
       "    </tbody>\n",
       "</table>\n",
       "<p>... (32 rows omitted)</p>"
      ],
      "text/plain": [
       "Group        | Group_num | UNIT NAME       | Capacity_MW | Heat_Rate_MMBTUperMWh | Fuel_Price_USDperMMBTU | Fuel_Cost_USDperMWH | Var_OandM_USDperMWH | Total_Var_Cost_USDperMWH | Carbon_tonsperMWH | FixedCst_OandM_perDay | Plant_ID\n",
       "Old Timers   | 7         | BIG CREEK       | 1000        | nan                   | 0                      | 0                   | 0                   | 0                        | 0                 | $15,000               | 61\n",
       "Fossil Light | 8         | HELMS           | 800         | nan                   | 0                      | 0                   | 0.5                 | 0.5                      | 0                 | $15,000               | 72\n",
       "Fossil Light | 8         | DIABLO CANYON 1 | 1000        | 1                     | 7.5                    | 7.5                 | 4                   | 11.5                     | 0                 | $20,000               | 75\n",
       "Bay Views    | 4         | MOSS LANDING 6  | 750         | 6.9                   | 4.5                    | 31.06               | 1.5                 | 32.56                    | 0.37              | $8,000                | 33\n",
       "Bay Views    | 4         | MOSS LANDING 7  | 750         | 6.9                   | 4.5                    | 31.06               | 1.5                 | 32.56                    | 0.37              | $8,000                | 34\n",
       "Old Timers   | 7         | MOHAVE 1        | 750         | 10                    | 3                      | 30                  | 4.5                 | 34.5                     | 0.94              | $15,000               | 62\n",
       "Old Timers   | 7         | MOHAVE 2        | 750         | 10                    | 3                      | 30                  | 4.5                 | 34.5                     | 0.94              | $15,000               | 63\n",
       "Big Coal     | 1         | FOUR CORNERS    | 1900        | 11.67                 | 3                      | 35                  | 1.5                 | 36.5                     | 1.1               | $8,000                | 11\n",
       "Bay Views    | 4         | MORRO BAY 3&4   | 665         | 8.02                  | 4.5                    | 36.11               | 0.5                 | 36.61                    | 0.43              | $4,000                | 32\n",
       "East Bay     | 6         | PITTSBURGH 5&6  | 650         | 8.02                  | 4.5                    | 36.11               | 0.5                 | 36.61                    | 0.43              | $2,500                | 52\n",
       "... (32 rows omitted)"
      ]
     },
     "execution_count": 2,
     "metadata": {},
     "output_type": "execute_result"
    }
   ],
   "source": [
    "ESG = Table.read_table(\"ESGPorfolios_forcsv.csv\")\n",
    "ESG_sorted = ESG.sort(\"Total_Var_Cost_USDperMWH\")\n",
    "ESG_sorted"
   ]
  },
  {
   "cell_type": "markdown",
   "metadata": {},
   "source": [
    "Now that we have sorted our table by the \"Total_Var_Cost_USDperMWH,\" we want to see the distribution of Capacity_MW and Variable Cost for a particular group. For a given capacity, what is the variable cost, or cost of producing an additional unit of capacity? \n",
    "\n",
    "From the ESG_sorted table above, we are grouping by the first column, Group, to look closer at a particular energy source. \n",
    "\n",
    "Select a particular group in the dropdown below to see a barchart of Variable Cost vs. Capacity_MW."
   ]
  },
  {
   "cell_type": "code",
   "execution_count": 3,
   "metadata": {},
   "outputs": [
    {
     "name": "stderr",
     "output_type": "stream",
     "text": [
      "/srv/app/venv/lib/python3.6/site-packages/traitlets/traitlets.py:567: FutureWarning: elementwise comparison failed; returning scalar instead, but in the future will perform elementwise comparison\n",
      "  silent = bool(old_value == new_value)\n"
     ]
    },
    {
     "data": {
      "application/vnd.jupyter.widget-view+json": {
       "model_id": "24e3e5c171154bdc8a53a4677b51053f",
       "version_major": 2,
       "version_minor": 0
      },
      "text/plain": [
       "interactive(children=(Dropdown(description='selection', options=('Bay Views', 'Beachfront', 'Big Coal', 'Big G…"
      ]
     },
     "metadata": {},
     "output_type": "display_data"
    }
   ],
   "source": [
    "interact(lambda selection: plot_group(selection, ESG_sorted), selection=Dropdown(options=np.unique(ESG[\"Group\"])));"
   ]
  },
  {
   "cell_type": "markdown",
   "metadata": {},
   "source": [
    "Suppose we are not concerned with one particular group, and we want to see the distribution of Variable Cost for Capacity_MW across all energy sources. Each color shows a unique group below.\n",
    "\n",
    "How do Capacity and Variable Cost affect each other? In order to determine the market price of energy in our simulation, demand is an important factor. We don't know exactly how much energy will be demanded in a given frame of time, however we can make predictions based off of estimates that we are given, and use those predictions to calculate the profitability of our plants.\n",
    "\n",
    "We calculate the maximum variable cost companies can have in order to make profit based on an estimated demand. For now, we will make the assumption that plants are willing to sell at a price equal to their variable cost.\n",
    "\n",
    "In the graph below, we added the vertical line for demand and horizontal line for variable cost cap. Since we have our power plants in order of lowest variable cost to highest variable cost, we can see that the companies to the left of the vertical demand line will produce energy while the companies to the right of the vertical demand line will choose not to. \n",
    "\n",
    "Why? The market will purchase energy from the power plants that have the cheapest prices, and we have graphed the cumulative energy production of companies ordered by increasing variable cost of production.\n",
    "\n",
    "Adjust the slider for demand and notice how the lines, price, and Capacity_MW are changing as a result."
   ]
  },
  {
   "cell_type": "code",
   "execution_count": 4,
   "metadata": {},
   "outputs": [
    {
     "data": {
      "application/vnd.jupyter.widget-view+json": {
       "model_id": "6001844de6ae4e0dbe5796417c8fd30f",
       "version_major": 2,
       "version_minor": 0
      },
      "text/plain": [
       "interactive(children=(IntSlider(value=20000, description='demand', max=23000, step=1000), Output()), _dom_clas…"
      ]
     },
     "metadata": {},
     "output_type": "display_data"
    }
   ],
   "source": [
    "interact(lambda demand: all_groups_with_demand(demand, ESG_sorted), \n",
    "         demand=IntSlider(value=20000, min=0, max=23000, step=1000));"
   ]
  },
  {
   "cell_type": "markdown",
   "metadata": {},
   "source": [
    "Now that we have seen how Capacity_MV, Variable Cost, and price change as demand changes, we want to be able to calculate profit generated by a given power plant. \n",
    "\n",
    "Run the profit function and the interactive slider in the next two cells below to see how profit changes with demand for each power plant."
   ]
  },
  {
   "cell_type": "code",
   "execution_count": 9,
   "metadata": {},
   "outputs": [],
   "source": [
    "def profit(sorted_table, price):\n",
    "    capacity_subset = sum(sorted_table.where(\"Total_Var_Cost_USDperMWH\", are.below(price))[\"Capacity_MW\"])\n",
    "    revenue = capacity_subset * price\n",
    "    cost = 0\n",
    "    for i in range(len(sorted_table.where(\"Total_Var_Cost_USDperMWH\", are.below(price))[\"Total_Var_Cost_USDperMWH\"])):\n",
    "        cost += sorted_table.where(\"Total_Var_Cost_USDperMWH\", are.below(price))[\"Total_Var_Cost_USDperMWH\"][i]\\\n",
    "        * sorted_table.where(\"Total_Var_Cost_USDperMWH\", are.below(price))[\"Capacity_MW\"][i]\n",
    "    return revenue - cost"
   ]
  },
  {
   "cell_type": "code",
   "execution_count": 10,
   "metadata": {},
   "outputs": [
    {
     "data": {
      "application/vnd.jupyter.widget-view+json": {
       "model_id": "71b6e7b700de410b91f64252ef41ae6f",
       "version_major": 2,
       "version_minor": 0
      },
      "text/plain": [
       "interactive(children=(Dropdown(description='selection', options=('Bay Views', 'Beachfront', 'Big Coal', 'Big G…"
      ]
     },
     "metadata": {},
     "output_type": "display_data"
    }
   ],
   "source": [
    "interact(lambda selection, demand: calc_profit(selection, demand, ESG_sorted), \n",
    "         selection=Dropdown(options=np.unique(ESG_sorted[\"Group\"])), \n",
    "         demand=IntSlider(value=20000, min=0, max=23000, step=1000));"
   ]
  },
  {
   "cell_type": "markdown",
   "metadata": {},
   "source": [
    "Below, we load in the `bids` table with data on energy price bids for different plants and hours."
   ]
  },
  {
   "cell_type": "code",
   "execution_count": 11,
   "metadata": {
    "scrolled": true
   },
   "outputs": [
    {
     "data": {
      "text/html": [
       "<table border=\"1\" class=\"dataframe\">\n",
       "    <thead>\n",
       "        <tr>\n",
       "            <th>TEAM</th> <th>TEAM_ID</th> <th>PORTFOLIO</th> <th>PORTFOLIO_ID</th> <th>PLANT</th> <th>PLANT_ID</th> <th>PERIOD</th> <th>PRICE1</th> <th>PRICE2</th> <th>PRICE3</th> <th>PRICE4</th>\n",
       "        </tr>\n",
       "    </thead>\n",
       "    <tbody>\n",
       "        <tr>\n",
       "            <td>Arrow </td> <td>1      </td> <td>Big_Coal </td> <td>1           </td> <td>Four Corners        </td> <td>11      </td> <td>1     </td> <td>45    </td> <td>47    </td> <td>40    </td> <td>40    </td>\n",
       "        </tr>\n",
       "        <tr>\n",
       "            <td>Arrow </td> <td>1      </td> <td>Big_Coal </td> <td>1           </td> <td>ALAMITOS_7          </td> <td>12      </td> <td>1     </td> <td>73.72 </td> <td>73.72 </td> <td>73.72 </td> <td>73.72 </td>\n",
       "        </tr>\n",
       "        <tr>\n",
       "            <td>Arrow </td> <td>1      </td> <td>Big_Coal </td> <td>1           </td> <td>HUNTINGTON_BEACH_1-2</td> <td>13      </td> <td>1     </td> <td>50    </td> <td>52    </td> <td>42    </td> <td>43    </td>\n",
       "        </tr>\n",
       "        <tr>\n",
       "            <td>Arrow </td> <td>1      </td> <td>Big_Coal </td> <td>1           </td> <td>HUNTINGTON_BEACH_5  </td> <td>14      </td> <td>1     </td> <td>66.5  </td> <td>66.5  </td> <td>66.5  </td> <td>66.5  </td>\n",
       "        </tr>\n",
       "        <tr>\n",
       "            <td>Arrow </td> <td>1      </td> <td>Big_Coal </td> <td>1           </td> <td>REDONDO_5-6         </td> <td>15      </td> <td>1     </td> <td>51    </td> <td>53    </td> <td>44    </td> <td>43    </td>\n",
       "        </tr>\n",
       "        <tr>\n",
       "            <td>Arrow </td> <td>1      </td> <td>Big_Coal </td> <td>1           </td> <td>REDONDO_7-8         </td> <td>16      </td> <td>1     </td> <td>48    </td> <td>50    </td> <td>44    </td> <td>43    </td>\n",
       "        </tr>\n",
       "        <tr>\n",
       "            <td>Becker</td> <td>2      </td> <td>Big_Gas  </td> <td>2           </td> <td>EL_SEGUNDO_1-2      </td> <td>21      </td> <td>1     </td> <td>44.83 </td> <td>44.83 </td> <td>56    </td> <td>44.83 </td>\n",
       "        </tr>\n",
       "        <tr>\n",
       "            <td>Becker</td> <td>2      </td> <td>Big_Gas  </td> <td>2           </td> <td>EL_SEGUNDO_3-4      </td> <td>22      </td> <td>1     </td> <td>41.22 </td> <td>42.2  </td> <td>56    </td> <td>41.67 </td>\n",
       "        </tr>\n",
       "        <tr>\n",
       "            <td>Becker</td> <td>2      </td> <td>Big_Gas  </td> <td>2           </td> <td>LONG_BEACH          </td> <td>23      </td> <td>1     </td> <td>52.5  </td> <td>52.5  </td> <td>56    </td> <td>52.5  </td>\n",
       "        </tr>\n",
       "        <tr>\n",
       "            <td>Becker</td> <td>2      </td> <td>Big_Gas  </td> <td>2           </td> <td>NORTH_ISLAND        </td> <td>24      </td> <td>1     </td> <td>65.5  </td> <td>65.5  </td> <td>65.5  </td> <td>65.5  </td>\n",
       "        </tr>\n",
       "    </tbody>\n",
       "</table>\n",
       "<p>... (32 rows omitted)</p>"
      ],
      "text/plain": [
       "TEAM   | TEAM_ID | PORTFOLIO | PORTFOLIO_ID | PLANT                | PLANT_ID | PERIOD | PRICE1 | PRICE2 | PRICE3 | PRICE4\n",
       "Arrow  | 1       | Big_Coal  | 1            | Four Corners         | 11       | 1      | 45     | 47     | 40     | 40\n",
       "Arrow  | 1       | Big_Coal  | 1            | ALAMITOS_7           | 12       | 1      | 73.72  | 73.72  | 73.72  | 73.72\n",
       "Arrow  | 1       | Big_Coal  | 1            | HUNTINGTON_BEACH_1-2 | 13       | 1      | 50     | 52     | 42     | 43\n",
       "Arrow  | 1       | Big_Coal  | 1            | HUNTINGTON_BEACH_5   | 14       | 1      | 66.5   | 66.5   | 66.5   | 66.5\n",
       "Arrow  | 1       | Big_Coal  | 1            | REDONDO_5-6          | 15       | 1      | 51     | 53     | 44     | 43\n",
       "Arrow  | 1       | Big_Coal  | 1            | REDONDO_7-8          | 16       | 1      | 48     | 50     | 44     | 43\n",
       "Becker | 2       | Big_Gas   | 2            | EL_SEGUNDO_1-2       | 21       | 1      | 44.83  | 44.83  | 56     | 44.83\n",
       "Becker | 2       | Big_Gas   | 2            | EL_SEGUNDO_3-4       | 22       | 1      | 41.22  | 42.2   | 56     | 41.67\n",
       "Becker | 2       | Big_Gas   | 2            | LONG_BEACH           | 23       | 1      | 52.5   | 52.5   | 56     | 52.5\n",
       "Becker | 2       | Big_Gas   | 2            | NORTH_ISLAND         | 24       | 1      | 65.5   | 65.5   | 65.5   | 65.5\n",
       "... (32 rows omitted)"
      ]
     },
     "execution_count": 11,
     "metadata": {},
     "output_type": "execute_result"
    }
   ],
   "source": [
    "bids = Table.read_table(\"S1_bids_0.csv\")\n",
    "bids"
   ]
  },
  {
   "cell_type": "markdown",
   "metadata": {},
   "source": [
    "With a new bids table with data on energy price bids across different power plants and hours, we will now calculate and visualize the profit our power plants have generated in a given hour. We will also be able to calculate cumulative profits, emissions, and expected emissions.\n",
    "\n",
    "We will need both of these tables, bids and ESG_sorted, to generate an analysis, so in the following cell we first join the tables based on the column Plant_ID.\n",
    "\n",
    "In the visualization below, we see how price varies with Capacity for a given hour for all power plants from above as demand changes. "
   ]
  },
  {
   "cell_type": "code",
   "execution_count": 21,
   "metadata": {
    "scrolled": true
   },
   "outputs": [
    {
     "data": {
      "text/html": [
       "<table border=\"1\" class=\"dataframe\">\n",
       "    <thead>\n",
       "        <tr>\n",
       "            <th>PLANT_ID</th> <th>TEAM</th> <th>TEAM_ID</th> <th>PORTFOLIO</th> <th>PORTFOLIO_ID</th> <th>PLANT</th> <th>PERIOD</th> <th>PRICE1</th> <th>PRICE2</th> <th>PRICE3</th> <th>PRICE4</th> <th>Group</th> <th>Group_num</th> <th>UNIT NAME</th> <th>Capacity_MW</th> <th>Heat_Rate_MMBTUperMWh</th> <th>Fuel_Price_USDperMMBTU</th> <th>Fuel_Cost_USDperMWH</th> <th>Var_OandM_USDperMWH</th> <th>Total_Var_Cost_USDperMWH</th> <th>Carbon_tonsperMWH</th> <th>FixedCst_OandM_perDay</th>\n",
       "        </tr>\n",
       "    </thead>\n",
       "    <tbody>\n",
       "        <tr>\n",
       "            <td>61      </td> <td>Heckman </td> <td>6      </td> <td>Old_Timers</td> <td>6           </td> <td>BIG_CREEK       </td> <td>1     </td> <td>0.49  </td> <td>0.49  </td> <td>0.49  </td> <td>0.49  </td> <td>Old Timers  </td> <td>7        </td> <td>BIG CREEK       </td> <td>1000       </td> <td>nan                  </td> <td>0                     </td> <td>0                  </td> <td>0                  </td> <td>0                       </td> <td>0                </td> <td>$15,000              </td>\n",
       "        </tr>\n",
       "        <tr>\n",
       "            <td>72      </td> <td>Krugman </td> <td>7      </td> <td>Low_Fossil</td> <td>7           </td> <td>HELMS           </td> <td>1     </td> <td>37    </td> <td>0.5   </td> <td>0.5   </td> <td>37    </td> <td>Fossil Light</td> <td>8        </td> <td>HELMS           </td> <td>800        </td> <td>nan                  </td> <td>0                     </td> <td>0                  </td> <td>0.5                </td> <td>0.5                     </td> <td>0                </td> <td>$15,000              </td>\n",
       "        </tr>\n",
       "        <tr>\n",
       "            <td>75      </td> <td>Krugman </td> <td>7      </td> <td>Low_Fossil</td> <td>7           </td> <td>DIABLO_CANYON_1 </td> <td>1     </td> <td>37.5  </td> <td>11.5  </td> <td>11.5  </td> <td>37.5  </td> <td>Fossil Light</td> <td>8        </td> <td>DIABLO CANYON 1 </td> <td>1000       </td> <td>1                    </td> <td>7.5                   </td> <td>7.5                </td> <td>4                  </td> <td>11.5                    </td> <td>0                </td> <td>$20,000              </td>\n",
       "        </tr>\n",
       "        <tr>\n",
       "            <td>62      </td> <td>Heckman </td> <td>6      </td> <td>Old_Timers</td> <td>6           </td> <td>MOHAVE_1        </td> <td>1     </td> <td>36.49 </td> <td>36.49 </td> <td>36.49 </td> <td>36.49 </td> <td>Old Timers  </td> <td>7        </td> <td>MOHAVE 1        </td> <td>750        </td> <td>10                   </td> <td>3                     </td> <td>30                 </td> <td>4.5                </td> <td>34.5                    </td> <td>0.94             </td> <td>$15,000              </td>\n",
       "        </tr>\n",
       "        <tr>\n",
       "            <td>63      </td> <td>Heckman </td> <td>6      </td> <td>Old_Timers</td> <td>6           </td> <td>MOHAVE_2        </td> <td>1     </td> <td>36.49 </td> <td>36.49 </td> <td>36.49 </td> <td>36.49 </td> <td>Old Timers  </td> <td>7        </td> <td>MOHAVE 2        </td> <td>750        </td> <td>10                   </td> <td>3                     </td> <td>30                 </td> <td>4.5                </td> <td>34.5                    </td> <td>0.94             </td> <td>$15,000              </td>\n",
       "        </tr>\n",
       "        <tr>\n",
       "            <td>22      </td> <td>Becker  </td> <td>2      </td> <td>Big_Gas   </td> <td>2           </td> <td>EL_SEGUNDO_3-4  </td> <td>1     </td> <td>41.22 </td> <td>42.2  </td> <td>56    </td> <td>41.67 </td> <td>Big Gas     </td> <td>2        </td> <td>EL SEGUNDO 3&4  </td> <td>650        </td> <td>8.83                 </td> <td>4.5                   </td> <td>39.72              </td> <td>1.5                </td> <td>41.22                   </td> <td>0.47             </td> <td>$1,000               </td>\n",
       "        </tr>\n",
       "        <tr>\n",
       "            <td>25      </td> <td>Becker  </td> <td>2      </td> <td>Big_Gas   </td> <td>2           </td> <td>ENCINA          </td> <td>1     </td> <td>41.67 </td> <td>42.2  </td> <td>58    </td> <td>41.67 </td> <td>Big Gas     </td> <td>2        </td> <td>ENCINA          </td> <td>950        </td> <td>9.15                 </td> <td>4.5                   </td> <td>41.17              </td> <td>0.5                </td> <td>41.67                   </td> <td>0.49             </td> <td>$2,000               </td>\n",
       "        </tr>\n",
       "        <tr>\n",
       "            <td>51      </td> <td>Friedman</td> <td>5      </td> <td>East_Bay  </td> <td>5           </td> <td>PITTSBURGH_1-4  </td> <td>1     </td> <td>50    </td> <td>42.38 </td> <td>58.27 </td> <td>43    </td> <td>East Bay    </td> <td>6        </td> <td>PITTSBURGH 1-4  </td> <td>650        </td> <td>8.99                 </td> <td>4.5                   </td> <td>40.44              </td> <td>0.5                </td> <td>40.94                   </td> <td>0.48             </td> <td>$2,500               </td>\n",
       "        </tr>\n",
       "        <tr>\n",
       "            <td>52      </td> <td>Friedman</td> <td>5      </td> <td>East_Bay  </td> <td>5           </td> <td>PITTSBURGH_5-6  </td> <td>1     </td> <td>40    </td> <td>42.38 </td> <td>58.27 </td> <td>41    </td> <td>East Bay    </td> <td>6        </td> <td>PITTSBURGH 5&6  </td> <td>650        </td> <td>8.02                 </td> <td>4.5                   </td> <td>36.11              </td> <td>0.5                </td> <td>36.61                   </td> <td>0.43             </td> <td>$2,500               </td>\n",
       "        </tr>\n",
       "        <tr>\n",
       "            <td>55      </td> <td>Friedman</td> <td>5      </td> <td>East_Bay  </td> <td>5           </td> <td>CONTRA_COSTA_6-7</td> <td>1     </td> <td>50    </td> <td>42.38 </td> <td>58.27 </td> <td>43    </td> <td>East Bay    </td> <td>6        </td> <td>CONTRA COSTA 6&7</td> <td>700        </td> <td>8.67                 </td> <td>4.5                   </td> <td>39                 </td> <td>0.5                </td> <td>39.5                    </td> <td>0.46             </td> <td>$6,000               </td>\n",
       "        </tr>\n",
       "    </tbody>\n",
       "</table>\n",
       "<p>... (32 rows omitted)</p>"
      ],
      "text/plain": [
       "PLANT_ID | TEAM     | TEAM_ID | PORTFOLIO  | PORTFOLIO_ID | PLANT            | PERIOD | PRICE1 | PRICE2 | PRICE3 | PRICE4 | Group        | Group_num | UNIT NAME        | Capacity_MW | Heat_Rate_MMBTUperMWh | Fuel_Price_USDperMMBTU | Fuel_Cost_USDperMWH | Var_OandM_USDperMWH | Total_Var_Cost_USDperMWH | Carbon_tonsperMWH | FixedCst_OandM_perDay\n",
       "61       | Heckman  | 6       | Old_Timers | 6            | BIG_CREEK        | 1      | 0.49   | 0.49   | 0.49   | 0.49   | Old Timers   | 7         | BIG CREEK        | 1000        | nan                   | 0                      | 0                   | 0                   | 0                        | 0                 | $15,000\n",
       "72       | Krugman  | 7       | Low_Fossil | 7            | HELMS            | 1      | 37     | 0.5    | 0.5    | 37     | Fossil Light | 8         | HELMS            | 800         | nan                   | 0                      | 0                   | 0.5                 | 0.5                      | 0                 | $15,000\n",
       "75       | Krugman  | 7       | Low_Fossil | 7            | DIABLO_CANYON_1  | 1      | 37.5   | 11.5   | 11.5   | 37.5   | Fossil Light | 8         | DIABLO CANYON 1  | 1000        | 1                     | 7.5                    | 7.5                 | 4                   | 11.5                     | 0                 | $20,000\n",
       "62       | Heckman  | 6       | Old_Timers | 6            | MOHAVE_1         | 1      | 36.49  | 36.49  | 36.49  | 36.49  | Old Timers   | 7         | MOHAVE 1         | 750         | 10                    | 3                      | 30                  | 4.5                 | 34.5                     | 0.94              | $15,000\n",
       "63       | Heckman  | 6       | Old_Timers | 6            | MOHAVE_2         | 1      | 36.49  | 36.49  | 36.49  | 36.49  | Old Timers   | 7         | MOHAVE 2         | 750         | 10                    | 3                      | 30                  | 4.5                 | 34.5                     | 0.94              | $15,000\n",
       "22       | Becker   | 2       | Big_Gas    | 2            | EL_SEGUNDO_3-4   | 1      | 41.22  | 42.2   | 56     | 41.67  | Big Gas      | 2         | EL SEGUNDO 3&4   | 650         | 8.83                  | 4.5                    | 39.72               | 1.5                 | 41.22                    | 0.47              | $1,000\n",
       "25       | Becker   | 2       | Big_Gas    | 2            | ENCINA           | 1      | 41.67  | 42.2   | 58     | 41.67  | Big Gas      | 2         | ENCINA           | 950         | 9.15                  | 4.5                    | 41.17               | 0.5                 | 41.67                    | 0.49              | $2,000\n",
       "51       | Friedman | 5       | East_Bay   | 5            | PITTSBURGH_1-4   | 1      | 50     | 42.38  | 58.27  | 43     | East Bay     | 6         | PITTSBURGH 1-4   | 650         | 8.99                  | 4.5                    | 40.44               | 0.5                 | 40.94                    | 0.48              | $2,500\n",
       "52       | Friedman | 5       | East_Bay   | 5            | PITTSBURGH_5-6   | 1      | 40     | 42.38  | 58.27  | 41     | East Bay     | 6         | PITTSBURGH 5&6   | 650         | 8.02                  | 4.5                    | 36.11               | 0.5                 | 36.61                    | 0.43              | $2,500\n",
       "55       | Friedman | 5       | East_Bay   | 5            | CONTRA_COSTA_6-7 | 1      | 50     | 42.38  | 58.27  | 43     | East Bay     | 6         | CONTRA COSTA 6&7 | 700         | 8.67                  | 4.5                    | 39                  | 0.5                 | 39.5                     | 0.46              | $6,000\n",
       "... (32 rows omitted)"
      ]
     },
     "execution_count": 21,
     "metadata": {},
     "output_type": "execute_result"
    }
   ],
   "source": [
    "# make sorted joined table\n",
    "hour = 2\n",
    "sorted_joined_table = bids.join(\"PLANT_ID\", ESG_sorted, \"Plant_ID\").sort(\"PRICE\" + str(hour))\n",
    "sorted_joined_table"
   ]
  },
  {
   "cell_type": "code",
   "execution_count": 19,
   "metadata": {
    "scrolled": true
   },
   "outputs": [
    {
     "data": {
      "application/vnd.jupyter.widget-view+json": {
       "model_id": "a8276efae1e24382883a44c351dd0f20",
       "version_major": 2,
       "version_minor": 0
      },
      "text/plain": [
       "interactive(children=(IntSlider(value=20000, description='demand', max=23000, step=1000), Dropdown(description…"
      ]
     },
     "metadata": {},
     "output_type": "display_data"
    }
   ],
   "source": [
    "interact(lambda demand, hour: all_group_bids(demand, hour, sorted_joined_table), \n",
    "         demand=IntSlider(value=20000, min=0, max=23000, step=1000), hour=Dropdown(options=[1,2,3,4]));"
   ]
  },
  {
   "cell_type": "markdown",
   "metadata": {},
   "source": [
    "Now, let's examine a particular power plant for a given hour. "
   ]
  },
  {
   "cell_type": "code",
   "execution_count": 22,
   "metadata": {
    "scrolled": false
   },
   "outputs": [
    {
     "data": {
      "application/vnd.jupyter.widget-view+json": {
       "model_id": "d1429ec6986e4e1c8792039f23721dc6",
       "version_major": 2,
       "version_minor": 0
      },
      "text/plain": [
       "interactive(children=(Dropdown(description='selection', options=('Bay Views', 'Beachfront', 'Big Coal', 'Big G…"
      ]
     },
     "metadata": {},
     "output_type": "display_data"
    }
   ],
   "source": [
    "interact(lambda selection, hour, demand: your_portfolio_plot(selection, hour, demand, sorted_joined_table), \n",
    "         selection=Dropdown(options=np.unique(ESG_sorted[\"Group\"])), hour=Dropdown(options=[1,2,3,4]), \n",
    "         demand=IntSlider(value=20000, min=0, max=23000, step=1000));"
   ]
  },
  {
   "cell_type": "markdown",
   "metadata": {},
   "source": [
    "Given a power plant, hour, and demand, we have the market price. Below, we explore how we compare market price of energy for a given hour to the marginal costs of running the power plant plants that have a bid price that was below the market price. "
   ]
  },
  {
   "cell_type": "code",
   "execution_count": 20,
   "metadata": {},
   "outputs": [
    {
     "data": {
      "application/vnd.jupyter.widget-view+json": {
       "model_id": "17568717fc2f46ecb029ce2b21c94850",
       "version_major": 2,
       "version_minor": 0
      },
      "text/plain": [
       "interactive(children=(Dropdown(description='selection', options=('Bay Views', 'Beachfront', 'Big Coal', 'Big G…"
      ]
     },
     "metadata": {},
     "output_type": "display_data"
    }
   ],
   "source": [
    "interact(lambda selection, hour, demand: marginal_cost_plot(selection, hour, demand, sorted_joined_table), \n",
    "         selection=Dropdown(options=np.unique(ESG_sorted[\"Group\"])), hour=Dropdown(options=[1,2,3,4]), \n",
    "         demand=IntSlider(value=20000, min=0, max=23000, step=1000));"
   ]
  },
  {
   "cell_type": "code",
   "execution_count": 24,
   "metadata": {},
   "outputs": [
    {
     "data": {
      "application/vnd.jupyter.widget-view+json": {
       "model_id": "25c0f4adfeeb46b4a0bc1014eb8b5839",
       "version_major": 2,
       "version_minor": 0
      },
      "text/plain": [
       "interactive(children=(Dropdown(description='selection', options=('Bay Views', 'Beachfront', 'Big Coal', 'Big G…"
      ]
     },
     "metadata": {},
     "output_type": "display_data"
    }
   ],
   "source": [
    "interact(lambda selection, hour, demand: calc_profit_by_hour(selection, hour, demand, sorted_joined_table), \n",
    "         selection=Dropdown(options=np.unique(ESG_sorted[\"Group\"])), hour=Dropdown(options=[1,2,3,4]), \n",
    "         demand=IntSlider(value=20000, min=0, max=23000, step=1000));"
   ]
  },
  {
   "cell_type": "markdown",
   "metadata": {},
   "source": [
    " "
   ]
  }
 ],
 "metadata": {
  "kernelspec": {
   "display_name": "Python 3",
   "language": "python",
   "name": "python3"
  },
  "language_info": {
   "codemirror_mode": {
    "name": "ipython",
    "version": 3
   },
   "file_extension": ".py",
   "mimetype": "text/x-python",
   "name": "python",
   "nbconvert_exporter": "python",
   "pygments_lexer": "ipython3",
   "version": "3.6.8"
  }
 },
 "nbformat": 4,
 "nbformat_minor": 2
}
